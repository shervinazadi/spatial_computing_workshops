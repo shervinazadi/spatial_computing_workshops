{
 "cells": [
  {
   "cell_type": "markdown",
   "metadata": {},
   "source": [
    "# Solar Envelope\n",
    "\n",
    "In this workshop we will learn how to compute the solar envelop of the building based on a voxelized building envelope."
   ]
  },
  {
   "cell_type": "markdown",
   "metadata": {},
   "source": [
    "## 0. Initialization\n",
    "Importing all necessary libraries and specifying the inputs"
   ]
  },
  {
   "cell_type": "code",
   "execution_count": 7,
   "metadata": {},
   "outputs": [],
   "source": [
    "import os\n",
    "import topogenesis as tg\n",
    "import pyvista as pv\n",
    "import trimesh as tm\n",
    "import numpy as np\n",
    "from ladybug.sunpath import Sunpath"
   ]
  },
  {
   "cell_type": "markdown",
   "metadata": {},
   "source": [
    "## 1. Import Meshes (context + envelope)\n",
    "\n",
    "### 1.1. Load Meshes"
   ]
  },
  {
   "cell_type": "code",
   "execution_count": 8,
   "metadata": {},
   "outputs": [
    {
     "name": "stdout",
     "output_type": "stream",
     "text": [
      "True\n",
      "False\n"
     ]
    }
   ],
   "source": [
    "envelope_path = os.path.relpath('../data/compulsory_envelope.obj')\n",
    "context_path = os.path.relpath('../data/immediate_context.obj')\n",
    "\n",
    "# load the mesh from file\n",
    "envelope_mesh = tm.load(envelope_path)\n",
    "context_mesh = tm.load(context_path)\n",
    "\n",
    "# Check if the mesh is watertight\n",
    "print(envelope_mesh.is_watertight)\n",
    "print(context_mesh.is_watertight)"
   ]
  },
  {
   "cell_type": "markdown",
   "metadata": {},
   "source": [
    "### 1.2. Visualize Meshes (with pyvista)"
   ]
  },
  {
   "cell_type": "code",
   "execution_count": 9,
   "metadata": {},
   "outputs": [
    {
     "data": {
      "application/vnd.jupyter.widget-view+json": {
       "model_id": "ff0018b281f3481981a25aba4a6ea8e2",
       "version_major": 2,
       "version_minor": 0
      },
      "text/plain": [
       "ViewInteractiveWidget(height=768, layout=Layout(height='auto', width='100%'), width=1024)"
      ]
     },
     "metadata": {},
     "output_type": "display_data"
    }
   ],
   "source": [
    "# convert mesh to pv_mesh\n",
    "def tri_to_pv(tri_mesh):\n",
    "    faces = np.pad(tri_mesh.faces, ((0, 0),(1,0)), 'constant', constant_values=3)\n",
    "    pv_mesh = pv.PolyData(tri_mesh.vertices, faces)\n",
    "    return pv_mesh\n",
    "\n",
    "# initiating the plotter\n",
    "p = pv.Plotter(notebook=True)\n",
    "\n",
    "# adding the meshes\n",
    "p.add_mesh(tri_to_pv(envelope_mesh), color='#abd8ff')\n",
    "p.add_mesh(tri_to_pv(context_mesh), color='#aaaaaa')\n",
    "\n",
    "# plotting\n",
    "p.show()"
   ]
  },
  {
   "cell_type": "markdown",
   "metadata": {},
   "source": [
    "## 2. Import Lattice (envelope)\n",
    "\n",
    "### 2.1. Load the Envelope Lattice"
   ]
  },
  {
   "cell_type": "code",
   "execution_count": 10,
   "metadata": {},
   "outputs": [],
   "source": [
    "# loading the lattice from csv\n",
    "lattice_path = os.path.relpath('../data/voxelized_envelope.csv')\n",
    "envelope_lattice = tg.lattice_from_csv(lattice_path)"
   ]
  },
  {
   "cell_type": "markdown",
   "metadata": {},
   "source": [
    "### 2.2. Visualize the Context Mesh + Envelope Lattice"
   ]
  },
  {
   "cell_type": "code",
   "execution_count": 11,
   "metadata": {},
   "outputs": [
    {
     "data": {
      "application/vnd.jupyter.widget-view+json": {
       "model_id": "dacd6daee7084a80a6c8d38575da3ae7",
       "version_major": 2,
       "version_minor": 0
      },
      "text/plain": [
       "ViewInteractiveWidget(height=768, layout=Layout(height='auto', width='100%'), width=1024)"
      ]
     },
     "metadata": {},
     "output_type": "display_data"
    }
   ],
   "source": [
    "# convert mesh to pv_mesh\n",
    "def tri_to_pv(tri_mesh):\n",
    "    faces = np.pad(tri_mesh.faces, ((0, 0),(1,0)), 'constant', constant_values=3)\n",
    "    pv_mesh = pv.PolyData(tri_mesh.vertices, faces)\n",
    "    return pv_mesh\n",
    "\n",
    "# initiating the plotter\n",
    "p = pv.Plotter()\n",
    "\n",
    "# fast visualization of the lattice\n",
    "envelope_lattice.fast_vis(p)\n",
    "\n",
    "# adding the meshes\n",
    "p.add_mesh(tri_to_pv(context_mesh), color='#aaaaaa')\n",
    "\n",
    "# plotting\n",
    "p.show()"
   ]
  },
  {
   "cell_type": "markdown",
   "metadata": {},
   "source": [
    "## 3. Sun Vectors\n",
    "\n",
    "### 3.1. Compute Sun Vectors"
   ]
  },
  {
   "cell_type": "code",
   "execution_count": 12,
   "metadata": {
    "tags": []
   },
   "outputs": [
    {
     "name": "stdout",
     "output_type": "stream",
     "text": [
      "(154, 3)\n"
     ]
    }
   ],
   "source": [
    "# initiate sunpath\n",
    "sp = Sunpath(longitude=4.3571, latitude=52.0116)\n",
    "\n",
    "# define sun hours : A list of hours of the year for each sun vector\n",
    "# there are 8760 hours in a year, so the following integers refer to specific hours throughout the year\n",
    "hoys = []\n",
    "sun_vectors = []\n",
    "day_multiples = 30\n",
    "for d in range(365):\n",
    "    if d%day_multiples==0:\n",
    "        for h in range(24):\n",
    "            i = d*24 + h\n",
    "            # compute the sun object\n",
    "            sun = sp.calculate_sun_from_hoy(i)\n",
    "            # extract the sun vector\n",
    "            sun_vector = sun.sun_vector.to_array()\n",
    "            # apparantly, if the Z component of sun vector is positive, \n",
    "            # it is under the horizon \n",
    "            if sun_vector[2] < 0.0:\n",
    "                hoys.append(i)\n",
    "                sun_vectors.append(sun_vector)\n",
    "                \n",
    "sun_vectors = np.array(sun_vectors)\n",
    "# compute the rotation matrix \n",
    "Rz = tm.transformations.rotation_matrix(np.radians(36.324), [0,0,1])\n",
    "# Rotate the sun vectors to match the site rotation\n",
    "sun_vectors = tm.transform_points(sun_vectors, Rz)\n",
    "print(sun_vectors.shape)"
   ]
  },
  {
   "cell_type": "code",
   "execution_count": 14,
   "metadata": {},
   "outputs": [
    {
     "data": {
      "application/vnd.jupyter.widget-view+json": {
       "model_id": "6400a6e2e1db4e58a67f25eaaa36be4e",
       "version_major": 2,
       "version_minor": 0
      },
      "text/plain": [
       "ViewInteractiveWidget(height=768, layout=Layout(height='auto', width='100%'), width=1024)"
      ]
     },
     "metadata": {},
     "output_type": "display_data"
    }
   ],
   "source": [
    "# convert mesh to pv_mesh\n",
    "def tri_to_pv(tri_mesh):\n",
    "    faces = np.pad(tri_mesh.faces, ((0, 0),(1,0)), 'constant', constant_values=3)\n",
    "    pv_mesh = pv.PolyData(tri_mesh.vertices, faces)\n",
    "    return pv_mesh\n",
    "\n",
    "# Visualize the mesh using pyvista plotter\n",
    "#######\n",
    "\n",
    "# initiating the plotter\n",
    "p = pv.Plotter(notebook=True)\n",
    "\n",
    "# fast visualization of the lattice\n",
    "envelope_lattice.fast_vis(p)\n",
    "\n",
    "# adding the meshes\n",
    "p.add_mesh(tri_to_pv(context_mesh), color='#aaaaaa')\n",
    "\n",
    "# add the sun locations, color orange\n",
    "p.add_points( - sun_vectors * 300, color='#ffa500')\n",
    "\n",
    "# plotting\n",
    "p.show()"
   ]
  },
  {
   "cell_type": "markdown",
   "metadata": {},
   "source": [
    "## 4. Compute Intersection of Sun Rays with Context Mesh\n",
    "\n",
    "### 4.1. Preparing the List of Ray Directions and Origins"
   ]
  },
  {
   "cell_type": "code",
   "execution_count": 15,
   "metadata": {},
   "outputs": [
    {
     "name": "stdout",
     "output_type": "stream",
     "text": [
      "number of voxels to shoot rays from : (300, 3)\n",
      "number of rays per each voxel : (154, 3)\n",
      "number of rays to be shooted : (46200, 3)\n"
     ]
    }
   ],
   "source": [
    "# constructing the sun direction from the sun vectors in a numpy array\n",
    "sun_dirs = -np.array(sun_vectors)\n",
    "# exract the centroids of the envelope voxels\n",
    "vox_cens = envelope_lattice.centroids\n",
    "# next step we need to shoot in all of the sun directions from all of the voxels, todo so, we need repeat the sun direction for the number of voxels to construct the ray_dir (which is the list of all ray directions). We need to repeat the voxels for the \n",
    "ray_dir = []\n",
    "ray_src = []\n",
    "for v_cen in vox_cens:\n",
    "    for s_dir in sun_dirs:\n",
    "        ray_dir.append(s_dir)\n",
    "        ray_src.append(v_cen)\n",
    "# converting the list of directions and sources to numpy array\n",
    "ray_dir = np.array(ray_dir)\n",
    "ray_src = np.array(ray_src)\n",
    "\n",
    "\"\"\"\n",
    "# Further info: this is the vectorised version of nested for loops\n",
    "ray_dir = np.tile(sun_dirs, [len(vox_cens),1])\n",
    "ray_src = np.tile(vox_cens, [1, len(sun_dirs)]).reshape(-1, 3)\n",
    "\"\"\"\n",
    "\n",
    "print(\"number of voxels to shoot rays from :\",vox_cens.shape)\n",
    "print(\"number of rays per each voxel :\",sun_dirs.shape)\n",
    "print(\"number of rays to be shooted :\",ray_src.shape)"
   ]
  },
  {
   "cell_type": "markdown",
   "metadata": {},
   "source": [
    "### 4.2. Computing the Intersection"
   ]
  },
  {
   "cell_type": "code",
   "execution_count": 16,
   "metadata": {},
   "outputs": [],
   "source": [
    "# computing the intersections of rays with the context mesh\n",
    "tri_id, ray_id = context_mesh.ray.intersects_id(ray_origins=ray_src, ray_directions=ray_dir, multiple_hits=False)"
   ]
  },
  {
   "cell_type": "markdown",
   "metadata": {},
   "source": [
    "## 5. Aggregate Simulation Result in the Sun Access Lattice\n",
    "\n",
    "### 5.1. Compute the percentage of time that each voxel sees the sun"
   ]
  },
  {
   "cell_type": "code",
   "execution_count": 17,
   "metadata": {
    "tags": []
   },
   "outputs": [
    {
     "name": "stdout",
     "output_type": "stream",
     "text": [
      "[0.44805195 0.83766234 0.93506494 0.70779221 0.87662338 0.94805195\n",
      " 0.75324675 0.9025974  0.95454545 0.75324675 0.92857143 0.98701299\n",
      " 0.79220779 0.94155844 0.98701299 0.80519481 0.94805195 0.98701299\n",
      " 0.82467532 0.95454545 0.98701299 0.77272727 0.96103896 0.98701299\n",
      " 0.61688312 0.81818182 0.92207792 0.72077922 0.86363636 0.93506494\n",
      " 0.74675325 0.8961039  0.95454545 0.76623377 0.91558442 0.98051948\n",
      " 0.78571429 0.93506494 0.98051948 0.80519481 0.94155844 0.98051948\n",
      " 0.82467532 0.94155844 0.98051948 0.83766234 0.95454545 0.98051948\n",
      " 0.68831169 0.80519481 0.91558442 0.73376623 0.85064935 0.92857143\n",
      " 0.74675325 0.88311688 0.94805195 0.77922078 0.90909091 0.97402597\n",
      " 0.77922078 0.92857143 0.96753247 0.80519481 0.93506494 0.97402597\n",
      " 0.83116883 0.93506494 0.98051948 0.82467532 0.95454545 0.97402597\n",
      " 0.67532468 0.7987013  0.91558442 0.71428571 0.83766234 0.92857143\n",
      " 0.75324675 0.87662338 0.94155844 0.78571429 0.8961039  0.96753247\n",
      " 0.79220779 0.92207792 0.96753247 0.81818182 0.92857143 0.96753247\n",
      " 0.83116883 0.92857143 0.96753247 0.83766234 0.95454545 0.96753247\n",
      " 0.68831169 0.79220779 0.90909091 0.72077922 0.83766234 0.92207792\n",
      " 0.75974026 0.87662338 0.94805195 0.78571429 0.88961039 0.96753247\n",
      " 0.68181818 0.78571429 0.91558442 0.72077922 0.83116883 0.91558442\n",
      " 0.75974026 0.87012987 0.94155844 0.76623377 0.88961039 0.95454545\n",
      " 0.67532468 0.80519481 0.90909091 0.72727273 0.83116883 0.91558442\n",
      " 0.74675325 0.85714286 0.93506494 0.77272727 0.88961039 0.95454545\n",
      " 0.68181818 0.78571429 0.8961039  0.71428571 0.83766234 0.91558442\n",
      " 0.73376623 0.85714286 0.94155844 0.75974026 0.88311688 0.94805195\n",
      " 0.69480519 0.78571429 0.88961039 0.72077922 0.85064935 0.91558442\n",
      " 0.72727273 0.85714286 0.94155844 0.77272727 0.88311688 0.94805195\n",
      " 0.68181818 0.79220779 0.88961039 0.70779221 0.83116883 0.8961039\n",
      " 0.73376623 0.85064935 0.92857143 0.77272727 0.88961039 0.94155844\n",
      " 0.78571429 0.88961039 0.94805195 0.78571429 0.8961039  0.94805195\n",
      " 0.81168831 0.90909091 0.95454545 0.83116883 0.93506494 0.95454545\n",
      " 0.68181818 0.80519481 0.88961039 0.69480519 0.81818182 0.8961039\n",
      " 0.74025974 0.85064935 0.92207792 0.77272727 0.8961039  0.94155844\n",
      " 0.76623377 0.88961039 0.94805195 0.79220779 0.8961039  0.94805195\n",
      " 0.81168831 0.90909091 0.95454545 0.83766234 0.93506494 0.95454545\n",
      " 0.67532468 0.81168831 0.88961039 0.7012987  0.81818182 0.8961039\n",
      " 0.74025974 0.85064935 0.92857143 0.75974026 0.88311688 0.94155844\n",
      " 0.77272727 0.88961039 0.94805195 0.7987013  0.8961039  0.94805195\n",
      " 0.81818182 0.90909091 0.95454545 0.81168831 0.92857143 0.95454545\n",
      " 0.64285714 0.7987013  0.88961039 0.69480519 0.81818182 0.8961039\n",
      " 0.71428571 0.85714286 0.92207792 0.74675325 0.87012987 0.93506494\n",
      " 0.76623377 0.88961039 0.94155844 0.7987013  0.8961039  0.94805195\n",
      " 0.81168831 0.90909091 0.95454545 0.81168831 0.92857143 0.94805195\n",
      " 0.64285714 0.81168831 0.8961039  0.68181818 0.82467532 0.91558442\n",
      " 0.69480519 0.85714286 0.92207792 0.71428571 0.87012987 0.92857143\n",
      " 0.75974026 0.87012987 0.92857143 0.77922078 0.88311688 0.93506494\n",
      " 0.7987013  0.91558442 0.94805195 0.81818182 0.92857143 0.94805195\n",
      " 0.62337662 0.81168831 0.88311688 0.62987013 0.84415584 0.92207792\n",
      " 0.64935065 0.84415584 0.92207792 0.67532468 0.84415584 0.92207792\n",
      " 0.75974026 0.86363636 0.92857143 0.77922078 0.88311688 0.93506494\n",
      " 0.77922078 0.92857143 0.94805195 0.7987013  0.92857143 0.94805195]\n"
     ]
    }
   ],
   "source": [
    "# initializing the hits list full of zeros\n",
    "hits = [0]*len(ray_dir)\n",
    "# setting the rays that had an intersection to 1\n",
    "for id in ray_id:\n",
    "    hits[id] = 1\n",
    "\n",
    "sun_count = len(sun_dirs)\n",
    "vox_count = len(vox_cens)\n",
    "# initiating the list of ratio\n",
    "vox_sun_acc = []\n",
    "# iterate over the voxels\n",
    "for v_id in range(vox_count):\n",
    "    # counter for the intersection\n",
    "    int_count = 0\n",
    "    # iterate over the sun rays\n",
    "    for s_id in range(sun_count):\n",
    "        # computing the ray id from voxel id and sun id\n",
    "        r_id = v_id * sun_count + s_id\n",
    "\n",
    "        # summing the intersections\n",
    "        int_count += hits[r_id]\n",
    "    \n",
    "    # computing the percentage of the rays that DID NOT have \n",
    "    # an intersection (aka could see the sun)\n",
    "    sun_access = 1.0 - int_count/sun_count\n",
    "\n",
    "    # add the ratio to list\n",
    "    vox_sun_acc.append(sun_access)\n",
    "\n",
    "\n",
    "hits = np.array(hits)\n",
    "vox_sun_acc = np.array(vox_sun_acc)\n",
    "\n",
    "\"\"\"\n",
    "# Further info: this is the vectorised version of nested for loops\n",
    "hits = np.full((len(ray_dir)), 0)\n",
    "hits[ray_id] = 1\n",
    "hits = hits.reshape(len(vox_src), -1)\n",
    "voxel_hits = np.sum(hits, axis=1)\n",
    "vox_sun_acc = 1.0 - voxel_hits / len(sun_dirs)\n",
    "\"\"\"\n",
    "\n",
    "print(vox_sun_acc)"
   ]
  },
  {
   "cell_type": "markdown",
   "metadata": {},
   "source": [
    "### 5.2. Store sun access information in a Lattice"
   ]
  },
  {
   "cell_type": "code",
   "execution_count": 18,
   "metadata": {
    "scrolled": true
   },
   "outputs": [
    {
     "name": "stdout",
     "output_type": "stream",
     "text": [
      "(16, 9, 5)\n"
     ]
    }
   ],
   "source": [
    "# getting the condition of all voxels: are they inside the envelop or not\n",
    "env_all_vox = envelope_lattice.flatten()\n",
    "\n",
    "# all voxels sun access\n",
    "all_vox_sun_acc = []\n",
    "\n",
    "# v_id: voxel id in the list of only interior voxels\n",
    "v_id = 0\n",
    "\n",
    "# for all the voxels, place the interiority condition of each voxel in \"vox_in\"\n",
    "for vox_in in env_all_vox:\n",
    "    # if the voxel was outside...\n",
    "    if vox_in == True:\n",
    "        # read its value of sun access and append it to the list of all voxel sun access\n",
    "        all_vox_sun_acc.append(vox_sun_acc[v_id])\n",
    "        # add one to the voxel id so the next time we read the next voxel\n",
    "        v_id += 1\n",
    "    # if the voxel was not inside... \n",
    "    else:\n",
    "        # add 0.0 for its sun access\n",
    "        all_vox_sun_acc.append(0.0)\n",
    "\n",
    "# convert to array\n",
    "sunacc_array = np.array(all_vox_sun_acc)\n",
    "\n",
    "\"\"\"\n",
    "# Further info: this is the vectorised version of nested for loops\n",
    "env_all_vox_id = envelope_lattice.indices.flatten()\n",
    "env_all_vox = envelope_lattice.flatten()\n",
    "env_in_vox_id = env_all_vox_id[env_all_vox]\n",
    "sunacc_array = np.full(env_all_vox.shape, 0.0)\n",
    "sunacc_array[env_in_vox_id] = vox_sun_acc\n",
    "\"\"\"\n",
    "\n",
    "# reshape to lattice shape\n",
    "sunacc_array = sunacc_array.reshape(envelope_lattice.shape)\n",
    "\n",
    "# convert to lattice\n",
    "sunacc_lattice = tg.to_lattice(sunacc_array, envelope_lattice)\n",
    "\n",
    "\n",
    "print(sunacc_lattice.shape)"
   ]
  },
  {
   "cell_type": "markdown",
   "metadata": {},
   "source": [
    "### 5.3. Visualize the sun access lattice"
   ]
  },
  {
   "cell_type": "code",
   "execution_count": null,
   "metadata": {},
   "outputs": [
    {
     "ename": "Error",
     "evalue": "Session cannot generate requests",
     "output_type": "error",
     "traceback": [
      "Error: Session cannot generate requests",
      "at S.executeCodeCell (/Users/shervinazadi/.vscode/extensions/ms-toolsai.jupyter-2021.10.1101450599/out/client/extension.js:66:301742)",
      "at S.execute (/Users/shervinazadi/.vscode/extensions/ms-toolsai.jupyter-2021.10.1101450599/out/client/extension.js:66:300732)",
      "at S.start (/Users/shervinazadi/.vscode/extensions/ms-toolsai.jupyter-2021.10.1101450599/out/client/extension.js:66:296408)",
      "at runMicrotasks (<anonymous>)",
      "at processTicksAndRejections (internal/process/task_queues.js:93:5)",
      "at async t.CellExecutionQueue.executeQueuedCells (/Users/shervinazadi/.vscode/extensions/ms-toolsai.jupyter-2021.10.1101450599/out/client/extension.js:66:312326)",
      "at async t.CellExecutionQueue.start (/Users/shervinazadi/.vscode/extensions/ms-toolsai.jupyter-2021.10.1101450599/out/client/extension.js:66:311862)"
     ]
    }
   ],
   "source": [
    "# initiating the plotter\n",
    "p = pv.Plotter(notebook=True)\n",
    "\n",
    "# Create the spatial reference\n",
    "grid = pv.UniformGrid()\n",
    "\n",
    "# Set the grid dimensions: shape because we want to inject our values\n",
    "grid.dimensions = sunacc_lattice.shape\n",
    "# The bottom left corner of the data set\n",
    "grid.origin = sunacc_lattice.minbound\n",
    "# These are the cell sizes along each axis\n",
    "grid.spacing = sunacc_lattice.unit\n",
    "\n",
    "# Add the data values to the cell data\n",
    "grid.point_arrays[\"Sun Access\"] = sunacc_lattice.flatten(order=\"F\")  # Flatten the Lattice\n",
    "\n",
    "# adding the meshes\n",
    "p.add_mesh(tri_to_pv(context_mesh), opacity=0.1, style='wireframe')\n",
    "    \n",
    "# adding the volume\n",
    "opacity = np.array([0,0.6,0.6,0.6,0.6,0.6,0.6])*1.5\n",
    "p.add_volume(grid, cmap=\"coolwarm\", clim=[0.5, 1.0],opacity=opacity, shade=True)\n",
    "\n",
    "# plotting\n",
    "p.show()"
   ]
  },
  {
   "cell_type": "markdown",
   "metadata": {},
   "source": [
    "## 6. Save Sun Access Lattice into a CSV"
   ]
  },
  {
   "cell_type": "code",
   "execution_count": null,
   "metadata": {},
   "outputs": [],
   "source": [
    "# save the sun access latice to csv\n",
    "\n",
    "csv_path = os.path.relpath('../data/sun_access.csv')\n",
    "sunacc_lattice.to_csv(csv_path)"
   ]
  },
  {
   "cell_type": "markdown",
   "metadata": {},
   "source": [
    "### Credits"
   ]
  },
  {
   "cell_type": "code",
   "execution_count": null,
   "metadata": {},
   "outputs": [],
   "source": [
    "__author__ = \"Shervin Azadi and Pirouz Nourian\"\n",
    "__license__ = \"MIT\"\n",
    "__version__ = \"1.0\"\n",
    "__url__ = \"https://github.com/shervinazadi/spatial_computing_workshops\"\n",
    "__summary__ = \"Spatial Computing Design Studio Workshop on Solar Envelope\""
   ]
  }
 ],
 "metadata": {
  "kernelspec": {
   "display_name": "Python 3.8.5 64-bit ('sc_workshops': conda)",
   "metadata": {
    "interpreter": {
     "hash": "787ea478c22349cf73d867deb0a19fc58e75e9742a9aed6f48d06cc412ad6e3b"
    }
   },
   "name": "python3"
  },
  "language_info": {
   "codemirror_mode": {
    "name": "ipython",
    "version": 3
   },
   "file_extension": ".py",
   "mimetype": "text/x-python",
   "name": "python",
   "nbconvert_exporter": "python",
   "pygments_lexer": "ipython3",
   "version": "3.8.5"
  }
 },
 "nbformat": 4,
 "nbformat_minor": 2
}

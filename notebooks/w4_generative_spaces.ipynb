{
 "metadata": {
  "language_info": {
   "codemirror_mode": {
    "name": "ipython",
    "version": 3
   },
   "file_extension": ".py",
   "mimetype": "text/x-python",
   "name": "python",
   "nbconvert_exporter": "python",
   "pygments_lexer": "ipython3",
   "version": "3.8.5-final"
  },
  "orig_nbformat": 2,
  "kernelspec": {
   "name": "python3",
   "display_name": "Python 3.8.5 64-bit ('spatial_computing_workshops': conda)",
   "metadata": {
    "interpreter": {
     "hash": "86351aa7da08b29f27f16145ecccaca445a290a06f6e0c95caae496bc1415472"
    }
   }
  }
 },
 "nbformat": 4,
 "nbformat_minor": 2,
 "cells": [
  {
   "source": [
    "# Generative Spaces (ABM)\n",
    "\n",
    "In this workshop we will lwarn how to construct a ABM (Agent Based Model) with spatial behaviours, that is capable of configuring the space. This file is an OOP version of Generative Spatial Agent Based Models. For further information, you can see other verisions:\n",
    "\n",
    "* [Simplified version](https://github.com/shervinazadi/spatial_computing_workshops/blob/master/notebooks/w3_generative_spaces_simplified.ipynb)\n",
    "* [Vectorized version](https://topogenesis.readthedocs.io/notebooks/random_walker)"
   ],
   "cell_type": "markdown",
   "metadata": {}
  },
  {
   "source": [
    "## 0. Initialization\n",
    "\n",
    "### 0.1. Load required libraries"
   ],
   "cell_type": "markdown",
   "metadata": {}
  },
  {
   "cell_type": "code",
   "execution_count": 7,
   "metadata": {},
   "outputs": [],
   "source": [
    "import os\n",
    "import topogenesis as tg\n",
    "import pyvista as pv\n",
    "import trimesh as tm\n",
    "import numpy as np\n",
    "np.random.seed(0)"
   ]
  },
  {
   "source": [
    "### 0.2. Define the Neighborhood (Stencil)"
   ],
   "cell_type": "markdown",
   "metadata": {}
  },
  {
   "cell_type": "code",
   "execution_count": 9,
   "metadata": {},
   "outputs": [
    {
     "output_type": "stream",
     "name": "stdout",
     "text": [
      "[[[0 0 0]\n  [0 1 0]\n  [0 0 0]]\n\n [[0 1 0]\n  [1 1 1]\n  [0 1 0]]\n\n [[0 0 0]\n  [0 1 0]\n  [0 0 0]]]\n"
     ]
    }
   ],
   "source": [
    "# creating neighborhood definition\n",
    "stencil = tg.create_stencil(\"von_neumann\", 1, 1)\n",
    "print(stencil)"
   ]
  },
  {
   "source": [
    "## 1. Agents\n",
    "\n",
    "### 1.1. Define the Agents Class"
   ],
   "cell_type": "markdown",
   "metadata": {}
  },
  {
   "cell_type": "code",
   "execution_count": 2,
   "metadata": {},
   "outputs": [],
   "source": [
    "# agent class\n",
    "class agent():\n",
    "    def __init__(self, origin, stencil, id):\n",
    "\n",
    "        # define the origin attribute of the agent and making sure that it is an intiger\n",
    "        self.origin = np.array(origin).astype(int)\n",
    "        # define old origin attribute and assigning the origin to it as the initial state\n",
    "        self.old_origin = self.origin\n",
    "        # define stencil of the agent\n",
    "        self.stencil = stencil\n",
    "        #define agent id\n",
    "        self.id = id\n",
    "\n",
    "    # definition of walking method for agents\n",
    "    def walk(self, env):\n",
    "        # find available spaces\n",
    "        #######################\n",
    "\n",
    "        # retrieve the list of neighbours of the agent based on the stencil\n",
    "        neighs = env.availibility.find_neighbours_masked(self.stencil, loc = self.origin)\n",
    "        # find availability of neighbours\n",
    "        neighs_availibility = env.availibility.flatten()[neighs]\n",
    "        # separate available neighbours\n",
    "        free_neighs = neighs[neighs_availibility==1]\n",
    "        # retrieve the value of each neighbour\n",
    "        free_neighs_value = env.value.flatten()[free_neighs]\n",
    "        # find the neighbour with maximum my value\n",
    "        selected_neigh = free_neighs[np.argmax(free_neighs_value)]\n",
    "        \n",
    "        # update information\n",
    "        ####################\n",
    "\n",
    "        # set the current origin as the ol origin\n",
    "        self.old_origin = self.origin\n",
    "        # update the current origin with the new selected neighbour\n",
    "        self.origin = np.array(np.unravel_index(selected_neigh, env.availibility.shape)).flatten()"
   ]
  },
  {
   "source": [
    "### 1.2. Initialize and scatter agents randomly"
   ],
   "cell_type": "markdown",
   "metadata": {}
  },
  {
   "cell_type": "code",
   "execution_count": 3,
   "metadata": {},
   "outputs": [],
   "source": [
    "# randomly scattering the agents\n",
    "# TODO: only choose from available voxels\n",
    "selected_cells = np.random.choice(avail_lattice.size, 5)\n",
    "agent_ind = np.array(np.unravel_index(selected_cells, avail_lattice.shape))\n",
    "\n",
    "agents= []\n",
    "# creating agent objects\n",
    "for id, ind in enumerate(agent_ind.T.tolist()):\n",
    "    myagent = agent(ind, stencil, id+1)\n",
    "    agents.append(myagent)"
   ]
  },
  {
   "source": [
    "## 2. Setup the Environment\n",
    "\n",
    "### 2.1. Load the envelope lattice as the avialbility lattice"
   ],
   "cell_type": "markdown",
   "metadata": {}
  },
  {
   "cell_type": "code",
   "execution_count": null,
   "metadata": {},
   "outputs": [],
   "source": [
    "# loading the lattice from csv\n",
    "lattice_path = os.path.relpath('../data/voxelized_envelope.csv')\n",
    "avail_lattice = tg.lattice_from_csv(lattice_path)"
   ]
  },
  {
   "source": [
    "### 2.2. Load the Sun Access lattice as the value field"
   ],
   "cell_type": "markdown",
   "metadata": {}
  },
  {
   "cell_type": "code",
   "execution_count": 11,
   "metadata": {},
   "outputs": [],
   "source": [
    "# loading the lattice from csv\n",
    "lattice_path = os.path.relpath('../data/sun_access.csv')\n",
    "sun_acc_lattice = tg.lattice_from_csv(lattice_path)"
   ]
  },
  {
   "source": [
    "### 2.3. Define Environment Class"
   ],
   "cell_type": "markdown",
   "metadata": {}
  },
  {
   "cell_type": "code",
   "execution_count": 4,
   "metadata": {},
   "outputs": [],
   "source": [
    "# environment class\n",
    "class environment():\n",
    "    def __init__(self, lattices, agents):\n",
    "        self.availibility = lattices[\"availibility\"]\n",
    "        self.value = lattices[\"sun_access\"]\n",
    "        self.agent_origin = self.availibility * 0\n",
    "        self.agents = agents\n",
    "        self.update_agents()\n",
    "    \n",
    "    def update_agents(self):\n",
    "        for a in self.agents:\n",
    "            # making previous position available\n",
    "            self.availibility[tuple(a.old_origin)] = self.availibility[tuple(a.old_origin)] * 0 + 1\n",
    "            # removing agent from previous position\n",
    "            self.agent_origin[tuple(a.old_origin)] *= 0\n",
    "            # making the current position unavailable\n",
    "            self.availibility[tuple(a.origin)] *= 0\n",
    "            # adding agent to the new position \n",
    "            self.agent_origin[tuple(a.origin)] = a.id\n",
    "    \n",
    "    def walk_agents(self):\n",
    "        # iterate over egents and perform the walk\n",
    "        for a in self.agents:\n",
    "            a.walk(self)\n",
    "        # update the agent states in environment\n",
    "        self.update_agents()"
   ]
  },
  {
   "source": [
    "### 2.4. Create the environment"
   ],
   "cell_type": "markdown",
   "metadata": {}
  },
  {
   "cell_type": "code",
   "execution_count": 6,
   "metadata": {},
   "outputs": [
    {
     "output_type": "stream",
     "name": "stdout",
     "text": [
      "[array([0, 4, 8]), array([0, 5, 2]), array([0, 7, 1]), array([0, 7, 4]), array([0, 7, 4])]\n[array([0, 4, 7]), array([0, 5, 3]), array([0, 6, 1]), array([0, 6, 4]), array([0, 6, 4])]\n[array([0, 4, 6]), array([0, 4, 3]), array([0, 6, 2]), array([0, 5, 4]), array([0, 5, 4])]\n[array([0, 4, 5]), array([0, 4, 4]), array([0, 5, 2]), array([0, 4, 4]), array([0, 4, 4])]\n[array([0, 3, 5]), array([0, 3, 4]), array([0, 5, 3]), array([0, 3, 4]), array([0, 3, 4])]\n[array([0, 4, 5]), array([0, 4, 4]), array([0, 4, 3]), array([0, 4, 4]), array([0, 4, 4])]\n[array([0, 3, 5]), array([0, 3, 4]), array([0, 3, 3]), array([0, 3, 4]), array([0, 3, 4])]\n[array([0, 4, 5]), array([0, 4, 4]), array([0, 4, 3]), array([0, 4, 4]), array([0, 4, 4])]\n[array([0, 3, 5]), array([0, 3, 4]), array([0, 3, 3]), array([0, 3, 4]), array([0, 3, 4])]\n[array([0, 4, 5]), array([0, 4, 4]), array([0, 4, 3]), array([0, 4, 4]), array([0, 4, 4])]\n"
     ]
    }
   ],
   "source": [
    "# name the lattices\n",
    "env_lattices = {\"availibility\": avail_lattice,\n",
    "                \"sun_access\": sun_acc_lattice}\n",
    "# initiate the environment\n",
    "env = environment(env_lattices, agents)\n",
    "\n"
   ]
  },
  {
   "source": [
    "## 3. Run the Simulation"
   ],
   "cell_type": "markdown",
   "metadata": {}
  },
  {
   "cell_type": "code",
   "execution_count": null,
   "metadata": {},
   "outputs": [],
   "source": [
    "for i in range(10):\n",
    "    # print(env.availibility)\n",
    "    # print(env.agent_origin)\n",
    "    agn_org = [a.origin for a in env.agents]\n",
    "    print(agn_org)\n",
    "    env.walk_agents()"
   ]
  },
  {
   "source": [
    "### Credits"
   ],
   "cell_type": "markdown",
   "metadata": {}
  },
  {
   "cell_type": "code",
   "execution_count": null,
   "metadata": {},
   "outputs": [],
   "source": [
    "__author__ = \"Shervin Azadi \"\n",
    "__license__ = \"MIT\"\n",
    "__version__ = \"1.0\"\n",
    "__url__ = \"https://github.com/shervinazadi/spatial_computing_workshops\"\n",
    "__summary__ = \"Spatial Computing Design Studio Workshop on Agent Based Models for Generative Spaces\""
   ]
  }
 ]
}